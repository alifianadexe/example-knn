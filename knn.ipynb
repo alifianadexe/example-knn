{
 "cells": [
  {
   "cell_type": "code",
   "execution_count": 1,
   "metadata": {},
   "outputs": [
    {
     "name": "stdout",
     "output_type": "stream",
     "text": [
      "['A' 'A']\n"
     ]
    },
    {
     "name": "stderr",
     "output_type": "stream",
     "text": [
      "c:\\Users\\user\\Documents\\Campus\\Semester 6\\Data Mining\\env\\Lib\\site-packages\\sklearn\\base.py:439: UserWarning: X does not have valid feature names, but KNeighborsClassifier was fitted with feature names\n",
      "  warnings.warn(\n"
     ]
    }
   ],
   "source": [
    "import pandas as pd\n",
    "import numpy as np\n",
    "from sklearn.neighbors import KNeighborsClassifier\n",
    "\n",
    "# Membuat dataframe untuk data train\n",
    "data_train = pd.DataFrame({\n",
    "    'x1': [10, 2, 4, 6, 8, 7, 4, 6, 7, 6],\n",
    "    'x2': [7, 3, 2, 4, 6, 5, 3, 3, 4, 3],\n",
    "    'y': ['A', 'B', 'B', 'B', 'A', 'A', 'B', 'B', 'A', 'A']\n",
    "})\n",
    "\n",
    "# Membuat array untuk data test\n",
    "data_test = np.array([\n",
    "    [8, 8],\n",
    "    [12, 9]\n",
    "])\n",
    "\n",
    "# Membuat model K-NN dengan K=7\n",
    "model = KNeighborsClassifier(n_neighbors=7)\n",
    "\n",
    "# Melatih model dengan data train\n",
    "model.fit(data_train[['x1', 'x2']], data_train['y'])\n",
    "\n",
    "# Memprediksi class (y) untuk data test\n",
    "y_pred = model.predict(data_test)\n",
    "\n",
    "# Menampilkan hasil prediksi\n",
    "print(y_pred)"
   ]
  }
 ],
 "metadata": {
  "kernelspec": {
   "display_name": "Python 3.11.2 ('env': venv)",
   "language": "python",
   "name": "python3"
  },
  "language_info": {
   "name": "python",
   "version": "3.11.2"
  },
  "orig_nbformat": 4,
  "vscode": {
   "interpreter": {
    "hash": "bc9eab15066fa0f89274e64e4cf5b29f4a5c563a184937d14ac3ba7e93263ea1"
   }
  }
 },
 "nbformat": 4,
 "nbformat_minor": 2
}
